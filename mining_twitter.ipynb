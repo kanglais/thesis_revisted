{
 "cells": [
  {
   "cell_type": "markdown",
   "metadata": {},
   "source": [
    "Used several tutorials & tweepy documentation: \n",
    "https://marcobonzanini.com/2015/03/02/mining-twitter-data-with-python-part-1/\n",
    "https://gist.github.com/vickyqian/f70e9ab3910c7c290d9d715491cde44c"
   ]
  },
  {
   "cell_type": "code",
   "execution_count": 1,
   "metadata": {},
   "outputs": [],
   "source": [
    "import tweepy\n",
    "from tweepy import OAuthHandler"
   ]
  },
  {
   "cell_type": "code",
   "execution_count": 2,
   "metadata": {},
   "outputs": [],
   "source": [
    "consumer_key = ''\n",
    "consumer_secret = ''\n",
    "access_token = ''\n",
    "access_secret = ''"
   ]
  },
  {
   "cell_type": "code",
   "execution_count": 3,
   "metadata": {},
   "outputs": [],
   "source": [
    "auth = OAuthHandler(consumer_key, consumer_secret)"
   ]
  },
  {
   "cell_type": "code",
   "execution_count": 4,
   "metadata": {},
   "outputs": [],
   "source": [
    "auth.set_access_token(access_token, access_secret)"
   ]
  },
  {
   "cell_type": "code",
   "execution_count": 5,
   "metadata": {},
   "outputs": [],
   "source": [
    "api = tweepy.API(auth)"
   ]
  },
  {
   "cell_type": "code",
   "execution_count": 6,
   "metadata": {},
   "outputs": [],
   "source": [
    "public_tweets = api.home_timeline()"
   ]
  },
  {
   "cell_type": "code",
   "execution_count": null,
   "metadata": {},
   "outputs": [],
   "source": []
  },
  {
   "cell_type": "code",
   "execution_count": 40,
   "metadata": {},
   "outputs": [
    {
     "name": "stdout",
     "output_type": "stream",
     "text": [
      "washingtonpost\n",
      "Washington, DC\n",
      "{u'symbols': [], u'user_mentions': [], u'hashtags': [], u'urls': [{u'url': u'https://t.co/YzbsekZmpw', u'indices': [72, 95], u'expanded_url': u'https://wapo.st/2rox0G0', u'display_url': u'wapo.st/2rox0G0'}]}\n",
      "nytimesworld\n",
      "New York, London, Hong Kong\n",
      "{u'symbols': [], u'user_mentions': [], u'hashtags': [], u'urls': [{u'url': u'https://t.co/GFnMkUESO1', u'indices': [117, 140], u'expanded_url': u'https://twitter.com/i/web/status/993227670795243521', u'display_url': u'twitter.com/i/web/status/9\\u2026'}]}\n",
      "washingtonpost\n",
      "Washington, DC\n",
      "{u'symbols': [], u'user_mentions': [], u'hashtags': [], u'urls': [{u'url': u'https://t.co/Z9Dj5gE0fU', u'indices': [49, 72], u'expanded_url': u'https://wapo.st/2KxDKKe', u'display_url': u'wapo.st/2KxDKKe'}]}\n",
      "CNN\n",
      "\n",
      "{u'symbols': [], u'user_mentions': [], u'hashtags': [], u'urls': [{u'url': u'https://t.co/dMwGEGq0Lh', u'indices': [67, 90], u'expanded_url': u'https://cnn.it/2ruAOWn', u'display_url': u'cnn.it/2ruAOWn'}], u'media': [{u'expanded_url': u'https://twitter.com/CNN/status/993226450361823232/photo/1', u'display_url': u'pic.twitter.com/QFpvkrJUlm', u'url': u'https://t.co/QFpvkrJUlm', u'media_url_https': u'https://pbs.twimg.com/media/DcimMSIUwAAwvIf.jpg', u'id_str': u'993226447790587904', u'sizes': {u'large': {u'h': 619, u'resize': u'fit', u'w': 1100}, u'small': {u'h': 383, u'resize': u'fit', u'w': 680}, u'medium': {u'h': 619, u'resize': u'fit', u'w': 1100}, u'thumb': {u'h': 150, u'resize': u'crop', u'w': 150}}, u'indices': [91, 114], u'type': u'photo', u'id': 993226447790587904, u'media_url': u'http://pbs.twimg.com/media/DcimMSIUwAAwvIf.jpg'}]}\n",
      "nytimes\n",
      "New York City\n",
      "{u'symbols': [], u'user_mentions': [], u'hashtags': [], u'urls': [{u'url': u'https://t.co/PKsSDNMhZB', u'indices': [117, 140], u'expanded_url': u'https://twitter.com/i/web/status/993226410117525504', u'display_url': u'twitter.com/i/web/status/9\\u2026'}]}\n",
      "nytimesworld\n",
      "New York, London, Hong Kong\n",
      "{u'symbols': [], u'user_mentions': [], u'hashtags': [], u'urls': [{u'url': u'https://t.co/L7AnM7iJYe', u'indices': [67, 90], u'expanded_url': u'https://nyti.ms/2KIo5b0', u'display_url': u'nyti.ms/2KIo5b0'}]}\n",
      "nytimesbooks\n",
      "New York, NY\n",
      "{u'symbols': [], u'user_mentions': [], u'hashtags': [], u'urls': [{u'url': u'https://t.co/KAc87paO9x', u'indices': [36, 59], u'expanded_url': u'https://nyti.ms/2FGLCWn', u'display_url': u'nyti.ms/2FGLCWn'}]}\n",
      "nytimesarts\n",
      "New York, NY\n",
      "{u'symbols': [], u'user_mentions': [], u'hashtags': [], u'urls': [{u'url': u'https://t.co/l1oJkBkgi6', u'indices': [107, 130], u'expanded_url': u'https://twitter.com/i/web/status/993224313938546689', u'display_url': u'twitter.com/i/web/status/9\\u2026'}]}\n",
      "nytimes\n",
      "New York City\n",
      "{u'symbols': [], u'user_mentions': [], u'hashtags': [], u'urls': [{u'url': u'https://t.co/lP41iLlFEK', u'indices': [117, 140], u'expanded_url': u'https://twitter.com/i/web/status/993222652184625152', u'display_url': u'twitter.com/i/web/status/9\\u2026'}]}\n",
      "CNN\n",
      "\n",
      "{u'symbols': [], u'user_mentions': [{u'id': 259074538, u'indices': [80, 91], u'id_str': u'259074538', u'screen_name': u'CNNOpinion', u'name': u'CNN Opinion'}], u'hashtags': [], u'urls': [{u'url': u'https://t.co/gt78OOAU7K', u'indices': [92, 115], u'expanded_url': u'https://cnn.it/2FMllpC', u'display_url': u'cnn.it/2FMllpC'}], u'media': [{u'expanded_url': u'https://twitter.com/CNN/status/993222643468898306/photo/1', u'display_url': u'pic.twitter.com/YFKjQ1m0HP', u'url': u'https://t.co/YFKjQ1m0HP', u'media_url_https': u'https://pbs.twimg.com/media/DciiuusX0AIh_I8.jpg', u'id_str': u'993222641527017474', u'sizes': {u'small': {u'h': 383, u'resize': u'fit', u'w': 680}, u'large': {u'h': 619, u'resize': u'fit', u'w': 1100}, u'medium': {u'h': 619, u'resize': u'fit', u'w': 1100}, u'thumb': {u'h': 150, u'resize': u'crop', u'w': 150}}, u'indices': [116, 139], u'type': u'photo', u'id': 993222641527017474, u'media_url': u'http://pbs.twimg.com/media/DciiuusX0AIh_I8.jpg'}]}\n",
      "nytimesworld\n",
      "New York, London, Hong Kong\n",
      "{u'symbols': [], u'user_mentions': [], u'hashtags': [], u'urls': [{u'url': u'https://t.co/4DN2uckG6b', u'indices': [117, 140], u'expanded_url': u'https://twitter.com/i/web/status/993222641250160640', u'display_url': u'twitter.com/i/web/status/9\\u2026'}]}\n",
      "Politie_Adam\n",
      "Amsterdam\n",
      "{u'symbols': [], u'user_mentions': [], u'hashtags': [], u'urls': []}\n",
      "nytimesbooks\n",
      "New York, NY\n",
      "{u'symbols': [], u'user_mentions': [], u'hashtags': [], u'urls': [{u'url': u'https://t.co/z9XiLaqJf0', u'indices': [95, 118], u'expanded_url': u'https://nyti.ms/2KBTUCx', u'display_url': u'nyti.ms/2KBTUCx'}]}\n",
      "parool\n",
      "Amsterdam\n",
      "{u'symbols': [], u'user_mentions': [], u'hashtags': [], u'urls': [{u'url': u'https://t.co/opwKkGMHVl', u'indices': [63, 86], u'expanded_url': u'https://s.parool.nl/t-a4597638/', u'display_url': u's.parool.nl/t-a4597638/'}]}\n",
      "washingtonpost\n",
      "Washington, DC\n",
      "{u'symbols': [], u'user_mentions': [], u'hashtags': [], u'urls': [{u'url': u'https://t.co/z6gSuSBGLc', u'indices': [82, 105], u'expanded_url': u'https://wapo.st/2FQbGOC', u'display_url': u'wapo.st/2FQbGOC'}]}\n",
      "metmuseum\n",
      "New York, NY\n",
      "{u'symbols': [], u'user_mentions': [], u'hashtags': [], u'urls': [{u'url': u'https://t.co/3AdCmvGqbh', u'indices': [117, 140], u'expanded_url': u'https://twitter.com/i/web/status/993218933800013824', u'display_url': u'twitter.com/i/web/status/9\\u2026'}]}\n",
      "nytimesworld\n",
      "New York, London, Hong Kong\n",
      "{u'symbols': [], u'user_mentions': [], u'hashtags': [], u'urls': [{u'url': u'https://t.co/L4evqz0E0K', u'indices': [117, 140], u'expanded_url': u'https://twitter.com/i/web/status/993218906448908288', u'display_url': u'twitter.com/i/web/status/9\\u2026'}]}\n",
      "nytimes\n",
      "New York City\n",
      "{u'symbols': [], u'user_mentions': [], u'hashtags': [], u'urls': [{u'url': u'https://t.co/F9JR6HG5nI', u'indices': [117, 140], u'expanded_url': u'https://twitter.com/i/web/status/993218872072425472', u'display_url': u'twitter.com/i/web/status/9\\u2026'}]}\n",
      "CNN\n",
      "\n",
      "{u'symbols': [], u'user_mentions': [], u'hashtags': [], u'urls': [{u'url': u'https://t.co/9ErhWYvRbW', u'indices': [63, 86], u'expanded_url': u'https://cnn.it/2FMkXaE', u'display_url': u'cnn.it/2FMkXaE'}], u'media': [{u'expanded_url': u'https://twitter.com/CNN/status/993218867504861184/photo/1', u'display_url': u'pic.twitter.com/Wi9OHcAkJt', u'url': u'https://t.co/Wi9OHcAkJt', u'media_url_https': u'https://pbs.twimg.com/media/DcifS9NXkAYPoUj.jpg', u'id_str': u'993218865852289030', u'sizes': {u'small': {u'h': 383, u'resize': u'fit', u'w': 680}, u'large': {u'h': 619, u'resize': u'fit', u'w': 1100}, u'medium': {u'h': 619, u'resize': u'fit', u'w': 1100}, u'thumb': {u'h': 150, u'resize': u'crop', u'w': 150}}, u'indices': [87, 110], u'type': u'photo', u'id': 993218865852289030, u'media_url': u'http://pbs.twimg.com/media/DcifS9NXkAYPoUj.jpg'}]}\n",
      "volkskrant\n",
      "Amsterdam\n",
      "{u'symbols': [], u'user_mentions': [], u'hashtags': [], u'urls': [{u'url': u'https://t.co/5ePQoAD92U', u'indices': [117, 140], u'expanded_url': u'https://twitter.com/i/web/status/993218845459415040', u'display_url': u'twitter.com/i/web/status/9\\u2026'}]}\n"
     ]
    }
   ],
   "source": [
    "for tweet in public_tweets:\n",
    "    print(tweet.user.screen_name)\n",
    "    print(tweet.user.location)\n",
    "    print(tweet.entities)"
   ]
  },
  {
   "cell_type": "code",
   "execution_count": null,
   "metadata": {},
   "outputs": [],
   "source": []
  },
  {
   "cell_type": "code",
   "execution_count": 38,
   "metadata": {},
   "outputs": [
    {
     "ename": "TweepError",
     "evalue": "Twitter error response: status code = 429",
     "output_type": "error",
     "traceback": [
      "\u001b[0;31m---------------------------------------------------------------------------\u001b[0m",
      "\u001b[0;31mTweepError\u001b[0m                                Traceback (most recent call last)",
      "\u001b[0;32m<ipython-input-38-74f2d42873b3>\u001b[0m in \u001b[0;36m<module>\u001b[0;34m()\u001b[0m\n\u001b[1;32m      1\u001b[0m for tweet in tweepy.Cursor(api.search,q=\"#trump\",count=100,\n\u001b[1;32m      2\u001b[0m                            \u001b[0mlang\u001b[0m\u001b[0;34m=\u001b[0m\u001b[0;34m\"en\"\u001b[0m\u001b[0;34m,\u001b[0m\u001b[0;34m\u001b[0m\u001b[0m\n\u001b[0;32m----> 3\u001b[0;31m                            since=\"2018-05-01\").items():\n\u001b[0m\u001b[1;32m      4\u001b[0m     \u001b[0;32mprint\u001b[0m \u001b[0;34m(\u001b[0m\u001b[0mtweet\u001b[0m\u001b[0;34m.\u001b[0m\u001b[0mcreated_at\u001b[0m\u001b[0;34m,\u001b[0m \u001b[0mtweet\u001b[0m\u001b[0;34m.\u001b[0m\u001b[0mtext\u001b[0m\u001b[0;34m,\u001b[0m \u001b[0mtweet\u001b[0m\u001b[0;34m.\u001b[0m\u001b[0muser\u001b[0m\u001b[0;34m.\u001b[0m\u001b[0mscreen_name\u001b[0m\u001b[0;34m,\u001b[0m \u001b[0mtweet\u001b[0m\u001b[0;34m.\u001b[0m\u001b[0mentities\u001b[0m\u001b[0;34m,\u001b[0m \u001b[0mtweet\u001b[0m\u001b[0;34m.\u001b[0m\u001b[0muser\u001b[0m\u001b[0;34m.\u001b[0m\u001b[0mlocation\u001b[0m\u001b[0;34m,\u001b[0m \u001b[0mtweet\u001b[0m\u001b[0;34m.\u001b[0m\u001b[0mentities\u001b[0m\u001b[0;34m[\u001b[0m\u001b[0;34m'hashtags'\u001b[0m\u001b[0;34m]\u001b[0m\u001b[0;34m)\u001b[0m\u001b[0;34m\u001b[0m\u001b[0m\n",
      "\u001b[0;32m/Users/Kellie/anaconda2/lib/python2.7/site-packages/tweepy/cursor.pyc\u001b[0m in \u001b[0;36mnext\u001b[0;34m(self)\u001b[0m\n\u001b[1;32m    195\u001b[0m         \u001b[0;32mif\u001b[0m \u001b[0mself\u001b[0m\u001b[0;34m.\u001b[0m\u001b[0mcurrent_page\u001b[0m \u001b[0;32mis\u001b[0m \u001b[0mNone\u001b[0m \u001b[0;32mor\u001b[0m \u001b[0mself\u001b[0m\u001b[0;34m.\u001b[0m\u001b[0mpage_index\u001b[0m \u001b[0;34m==\u001b[0m \u001b[0mlen\u001b[0m\u001b[0;34m(\u001b[0m\u001b[0mself\u001b[0m\u001b[0;34m.\u001b[0m\u001b[0mcurrent_page\u001b[0m\u001b[0;34m)\u001b[0m \u001b[0;34m-\u001b[0m \u001b[0;36m1\u001b[0m\u001b[0;34m:\u001b[0m\u001b[0;34m\u001b[0m\u001b[0m\n\u001b[1;32m    196\u001b[0m             \u001b[0;31m# Reached end of current page, get the next page...\u001b[0m\u001b[0;34m\u001b[0m\u001b[0;34m\u001b[0m\u001b[0m\n\u001b[0;32m--> 197\u001b[0;31m             \u001b[0mself\u001b[0m\u001b[0;34m.\u001b[0m\u001b[0mcurrent_page\u001b[0m \u001b[0;34m=\u001b[0m \u001b[0mself\u001b[0m\u001b[0;34m.\u001b[0m\u001b[0mpage_iterator\u001b[0m\u001b[0;34m.\u001b[0m\u001b[0mnext\u001b[0m\u001b[0;34m(\u001b[0m\u001b[0;34m)\u001b[0m\u001b[0;34m\u001b[0m\u001b[0m\n\u001b[0m\u001b[1;32m    198\u001b[0m             \u001b[0mself\u001b[0m\u001b[0;34m.\u001b[0m\u001b[0mpage_index\u001b[0m \u001b[0;34m=\u001b[0m \u001b[0;34m-\u001b[0m\u001b[0;36m1\u001b[0m\u001b[0;34m\u001b[0m\u001b[0m\n\u001b[1;32m    199\u001b[0m         \u001b[0mself\u001b[0m\u001b[0;34m.\u001b[0m\u001b[0mpage_index\u001b[0m \u001b[0;34m+=\u001b[0m \u001b[0;36m1\u001b[0m\u001b[0;34m\u001b[0m\u001b[0m\n",
      "\u001b[0;32m/Users/Kellie/anaconda2/lib/python2.7/site-packages/tweepy/cursor.pyc\u001b[0m in \u001b[0;36mnext\u001b[0;34m(self)\u001b[0m\n\u001b[1;32m    106\u001b[0m \u001b[0;34m\u001b[0m\u001b[0m\n\u001b[1;32m    107\u001b[0m         \u001b[0;32mif\u001b[0m \u001b[0mself\u001b[0m\u001b[0;34m.\u001b[0m\u001b[0mindex\u001b[0m \u001b[0;34m>=\u001b[0m \u001b[0mlen\u001b[0m\u001b[0;34m(\u001b[0m\u001b[0mself\u001b[0m\u001b[0;34m.\u001b[0m\u001b[0mresults\u001b[0m\u001b[0;34m)\u001b[0m \u001b[0;34m-\u001b[0m \u001b[0;36m1\u001b[0m\u001b[0;34m:\u001b[0m\u001b[0;34m\u001b[0m\u001b[0m\n\u001b[0;32m--> 108\u001b[0;31m             \u001b[0mdata\u001b[0m \u001b[0;34m=\u001b[0m \u001b[0mself\u001b[0m\u001b[0;34m.\u001b[0m\u001b[0mmethod\u001b[0m\u001b[0;34m(\u001b[0m\u001b[0mmax_id\u001b[0m\u001b[0;34m=\u001b[0m\u001b[0mself\u001b[0m\u001b[0;34m.\u001b[0m\u001b[0mmax_id\u001b[0m\u001b[0;34m,\u001b[0m \u001b[0mparser\u001b[0m\u001b[0;34m=\u001b[0m\u001b[0mRawParser\u001b[0m\u001b[0;34m(\u001b[0m\u001b[0;34m)\u001b[0m\u001b[0;34m,\u001b[0m \u001b[0;34m*\u001b[0m\u001b[0mself\u001b[0m\u001b[0;34m.\u001b[0m\u001b[0margs\u001b[0m\u001b[0;34m,\u001b[0m \u001b[0;34m**\u001b[0m\u001b[0mself\u001b[0m\u001b[0;34m.\u001b[0m\u001b[0mkargs\u001b[0m\u001b[0;34m)\u001b[0m\u001b[0;34m\u001b[0m\u001b[0m\n\u001b[0m\u001b[1;32m    109\u001b[0m \u001b[0;34m\u001b[0m\u001b[0m\n\u001b[1;32m    110\u001b[0m             \u001b[0;32mif\u001b[0m \u001b[0mhasattr\u001b[0m\u001b[0;34m(\u001b[0m\u001b[0mself\u001b[0m\u001b[0;34m.\u001b[0m\u001b[0mmethod\u001b[0m\u001b[0;34m,\u001b[0m \u001b[0;34m'__self__'\u001b[0m\u001b[0;34m)\u001b[0m\u001b[0;34m:\u001b[0m\u001b[0;34m\u001b[0m\u001b[0m\n",
      "\u001b[0;32m/Users/Kellie/anaconda2/lib/python2.7/site-packages/tweepy/binder.pyc\u001b[0m in \u001b[0;36m_call\u001b[0;34m(*args, **kwargs)\u001b[0m\n\u001b[1;32m    248\u001b[0m             \u001b[0;32mreturn\u001b[0m \u001b[0mmethod\u001b[0m\u001b[0;34m\u001b[0m\u001b[0m\n\u001b[1;32m    249\u001b[0m         \u001b[0;32melse\u001b[0m\u001b[0;34m:\u001b[0m\u001b[0;34m\u001b[0m\u001b[0m\n\u001b[0;32m--> 250\u001b[0;31m             \u001b[0;32mreturn\u001b[0m \u001b[0mmethod\u001b[0m\u001b[0;34m.\u001b[0m\u001b[0mexecute\u001b[0m\u001b[0;34m(\u001b[0m\u001b[0;34m)\u001b[0m\u001b[0;34m\u001b[0m\u001b[0m\n\u001b[0m\u001b[1;32m    251\u001b[0m \u001b[0;34m\u001b[0m\u001b[0m\n\u001b[1;32m    252\u001b[0m     \u001b[0;31m# Set pagination mode\u001b[0m\u001b[0;34m\u001b[0m\u001b[0;34m\u001b[0m\u001b[0m\n",
      "\u001b[0;32m/Users/Kellie/anaconda2/lib/python2.7/site-packages/tweepy/binder.pyc\u001b[0m in \u001b[0;36mexecute\u001b[0;34m(self)\u001b[0m\n\u001b[1;32m    232\u001b[0m                     \u001b[0;32mraise\u001b[0m \u001b[0mRateLimitError\u001b[0m\u001b[0;34m(\u001b[0m\u001b[0merror_msg\u001b[0m\u001b[0;34m,\u001b[0m \u001b[0mresp\u001b[0m\u001b[0;34m)\u001b[0m\u001b[0;34m\u001b[0m\u001b[0m\n\u001b[1;32m    233\u001b[0m                 \u001b[0;32melse\u001b[0m\u001b[0;34m:\u001b[0m\u001b[0;34m\u001b[0m\u001b[0m\n\u001b[0;32m--> 234\u001b[0;31m                     \u001b[0;32mraise\u001b[0m \u001b[0mTweepError\u001b[0m\u001b[0;34m(\u001b[0m\u001b[0merror_msg\u001b[0m\u001b[0;34m,\u001b[0m \u001b[0mresp\u001b[0m\u001b[0;34m,\u001b[0m \u001b[0mapi_code\u001b[0m\u001b[0;34m=\u001b[0m\u001b[0mapi_error_code\u001b[0m\u001b[0;34m)\u001b[0m\u001b[0;34m\u001b[0m\u001b[0m\n\u001b[0m\u001b[1;32m    235\u001b[0m \u001b[0;34m\u001b[0m\u001b[0m\n\u001b[1;32m    236\u001b[0m             \u001b[0;31m# Parse the response payload\u001b[0m\u001b[0;34m\u001b[0m\u001b[0;34m\u001b[0m\u001b[0m\n",
      "\u001b[0;31mTweepError\u001b[0m: Twitter error response: status code = 429"
     ]
    }
   ],
   "source": [
    "for tweet in tweepy.Cursor(api.search,q=\"#trump\",count=100,\n",
    "                           lang=\"en\",\n",
    "                           since=\"2018-05-01\").items():\n",
    "    print (tweet.created_at, tweet.text, tweet.user.screen_name, tweet.entities, tweet.user.location, tweet.entities['hashtags'])"
   ]
  },
  {
   "cell_type": "code",
   "execution_count": null,
   "metadata": {},
   "outputs": [],
   "source": []
  }
 ],
 "metadata": {
  "kernelspec": {
   "display_name": "Python 2",
   "language": "python",
   "name": "python2"
  },
  "language_info": {
   "codemirror_mode": {
    "name": "ipython",
    "version": 2
   },
   "file_extension": ".py",
   "mimetype": "text/x-python",
   "name": "python",
   "nbconvert_exporter": "python",
   "pygments_lexer": "ipython2",
   "version": "2.7.14"
  }
 },
 "nbformat": 4,
 "nbformat_minor": 2
}
