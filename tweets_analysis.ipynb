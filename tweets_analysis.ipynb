{
 "cells": [
  {
   "cell_type": "code",
   "execution_count": 8,
   "metadata": {},
   "outputs": [],
   "source": [
    "import pandas as pd\n",
    "import matplotlib.pyplot as plt"
   ]
  },
  {
   "cell_type": "code",
   "execution_count": 2,
   "metadata": {},
   "outputs": [],
   "source": [
    "tweets = pd.read_csv('oct_trump_tweets.csv')"
   ]
  },
  {
   "cell_type": "code",
   "execution_count": 3,
   "metadata": {},
   "outputs": [
    {
     "name": "stdout",
     "output_type": "stream",
     "text": [
      "<class 'pandas.core.frame.DataFrame'>\n",
      "RangeIndex: 494 entries, 0 to 493\n",
      "Data columns (total 7 columns):\n",
      "source            494 non-null object\n",
      "text              494 non-null object\n",
      "created_at        494 non-null object\n",
      "retweet_count     494 non-null int64\n",
      "favorite_count    494 non-null int64\n",
      "is_retweet        494 non-null bool\n",
      "id_str            494 non-null int64\n",
      "dtypes: bool(1), int64(3), object(3)\n",
      "memory usage: 23.7+ KB\n"
     ]
    }
   ],
   "source": [
    "tweets.info()"
   ]
  },
  {
   "cell_type": "code",
   "execution_count": 4,
   "metadata": {},
   "outputs": [
    {
     "data": {
      "text/html": [
       "<div>\n",
       "<style scoped>\n",
       "    .dataframe tbody tr th:only-of-type {\n",
       "        vertical-align: middle;\n",
       "    }\n",
       "\n",
       "    .dataframe tbody tr th {\n",
       "        vertical-align: top;\n",
       "    }\n",
       "\n",
       "    .dataframe thead th {\n",
       "        text-align: right;\n",
       "    }\n",
       "</style>\n",
       "<table border=\"1\" class=\"dataframe\">\n",
       "  <thead>\n",
       "    <tr style=\"text-align: right;\">\n",
       "      <th></th>\n",
       "      <th>source</th>\n",
       "      <th>text</th>\n",
       "      <th>created_at</th>\n",
       "      <th>retweet_count</th>\n",
       "      <th>favorite_count</th>\n",
       "      <th>is_retweet</th>\n",
       "      <th>id_str</th>\n",
       "    </tr>\n",
       "  </thead>\n",
       "  <tbody>\n",
       "    <tr>\n",
       "      <th>0</th>\n",
       "      <td>Twitter for iPhone</td>\n",
       "      <td>Thank you Las Vegas Nevada- I love you! Depart...</td>\n",
       "      <td>10-30-2016 19:05:31</td>\n",
       "      <td>8325</td>\n",
       "      <td>22954</td>\n",
       "      <td>False</td>\n",
       "      <td>792804645542305792</td>\n",
       "    </tr>\n",
       "    <tr>\n",
       "      <th>1</th>\n",
       "      <td>Twitter for iPhone</td>\n",
       "      <td>See you tomorrow Michigan!Grand Rapids MI tomo...</td>\n",
       "      <td>10-30-2016 17:58:52</td>\n",
       "      <td>7869</td>\n",
       "      <td>20476</td>\n",
       "      <td>False</td>\n",
       "      <td>792787872789045248</td>\n",
       "    </tr>\n",
       "    <tr>\n",
       "      <th>2</th>\n",
       "      <td>Twitter for Android</td>\n",
       "      <td>Wow Twitter Google and Facebook are burying th...</td>\n",
       "      <td>10-30-2016 14:26:30</td>\n",
       "      <td>35433</td>\n",
       "      <td>72013</td>\n",
       "      <td>False</td>\n",
       "      <td>792734426912337920</td>\n",
       "    </tr>\n",
       "    <tr>\n",
       "      <th>3</th>\n",
       "      <td>Twitter for Android</td>\n",
       "      <td>Hillary and the Dems loved and praised FBI Dir...</td>\n",
       "      <td>10-30-2016 14:04:06</td>\n",
       "      <td>19311</td>\n",
       "      <td>48647</td>\n",
       "      <td>False</td>\n",
       "      <td>792728791743291392</td>\n",
       "    </tr>\n",
       "    <tr>\n",
       "      <th>4</th>\n",
       "      <td>Twitter for Android</td>\n",
       "      <td>We are now leading in many polls and many of t...</td>\n",
       "      <td>10-30-2016 13:55:06</td>\n",
       "      <td>21013</td>\n",
       "      <td>64282</td>\n",
       "      <td>False</td>\n",
       "      <td>792726526127067136</td>\n",
       "    </tr>\n",
       "  </tbody>\n",
       "</table>\n",
       "</div>"
      ],
      "text/plain": [
       "                source                                               text  \\\n",
       "0   Twitter for iPhone  Thank you Las Vegas Nevada- I love you! Depart...   \n",
       "1   Twitter for iPhone  See you tomorrow Michigan!Grand Rapids MI tomo...   \n",
       "2  Twitter for Android  Wow Twitter Google and Facebook are burying th...   \n",
       "3  Twitter for Android  Hillary and the Dems loved and praised FBI Dir...   \n",
       "4  Twitter for Android  We are now leading in many polls and many of t...   \n",
       "\n",
       "            created_at  retweet_count  favorite_count  is_retweet  \\\n",
       "0  10-30-2016 19:05:31           8325           22954       False   \n",
       "1  10-30-2016 17:58:52           7869           20476       False   \n",
       "2  10-30-2016 14:26:30          35433           72013       False   \n",
       "3  10-30-2016 14:04:06          19311           48647       False   \n",
       "4  10-30-2016 13:55:06          21013           64282       False   \n",
       "\n",
       "               id_str  \n",
       "0  792804645542305792  \n",
       "1  792787872789045248  \n",
       "2  792734426912337920  \n",
       "3  792728791743291392  \n",
       "4  792726526127067136  "
      ]
     },
     "execution_count": 4,
     "metadata": {},
     "output_type": "execute_result"
    }
   ],
   "source": [
    "tweets.head()"
   ]
  },
  {
   "cell_type": "code",
   "execution_count": 5,
   "metadata": {},
   "outputs": [
    {
     "data": {
      "text/plain": [
       "Twitter for iPhone     312\n",
       "Twitter for Android     89\n",
       "Twitter Web Client      86\n",
       "Twitter for iPad         3\n",
       "Twitter Ads              2\n",
       "TweetDeck                2\n",
       "Name: source, dtype: int64"
      ]
     },
     "execution_count": 5,
     "metadata": {},
     "output_type": "execute_result"
    }
   ],
   "source": [
    "tweets.source.value_counts()"
   ]
  },
  {
   "cell_type": "code",
   "execution_count": 7,
   "metadata": {},
   "outputs": [
    {
     "ename": "AttributeError",
     "evalue": "'module' object has no attribute 'scatter'",
     "output_type": "error",
     "traceback": [
      "\u001b[0;31m---------------------------------------------------------------------------\u001b[0m",
      "\u001b[0;31mAttributeError\u001b[0m                            Traceback (most recent call last)",
      "\u001b[0;32m<ipython-input-7-32bf3078b6c7>\u001b[0m in \u001b[0;36m<module>\u001b[0;34m()\u001b[0m\n\u001b[1;32m      2\u001b[0m \u001b[0my\u001b[0m \u001b[0;34m=\u001b[0m \u001b[0mtweets\u001b[0m\u001b[0;34m.\u001b[0m\u001b[0msource\u001b[0m\u001b[0;34m\u001b[0m\u001b[0m\n\u001b[1;32m      3\u001b[0m \u001b[0;34m\u001b[0m\u001b[0m\n\u001b[0;32m----> 4\u001b[0;31m \u001b[0mplt\u001b[0m\u001b[0;34m.\u001b[0m\u001b[0mscatter\u001b[0m\u001b[0;34m(\u001b[0m\u001b[0mx\u001b[0m\u001b[0;34m,\u001b[0m\u001b[0my\u001b[0m\u001b[0;34m)\u001b[0m\u001b[0;34m\u001b[0m\u001b[0m\n\u001b[0m\u001b[1;32m      5\u001b[0m \u001b[0mplt\u001b[0m\u001b[0;34m.\u001b[0m\u001b[0mshow\u001b[0m\u001b[0;34m\u001b[0m\u001b[0m\n",
      "\u001b[0;31mAttributeError\u001b[0m: 'module' object has no attribute 'scatter'"
     ]
    }
   ],
   "source": [
    "x = tweets.retweet_count\n",
    "y = tweets.source\n",
    "\n",
    "plt.scatter(x,y)\n",
    "plt.show"
   ]
  },
  {
   "cell_type": "code",
   "execution_count": null,
   "metadata": {},
   "outputs": [],
   "source": []
  }
 ],
 "metadata": {
  "kernelspec": {
   "display_name": "Python 2",
   "language": "python",
   "name": "python2"
  },
  "language_info": {
   "codemirror_mode": {
    "name": "ipython",
    "version": 2
   },
   "file_extension": ".py",
   "mimetype": "text/x-python",
   "name": "python",
   "nbconvert_exporter": "python",
   "pygments_lexer": "ipython2",
   "version": "2.7.14"
  }
 },
 "nbformat": 4,
 "nbformat_minor": 2
}
